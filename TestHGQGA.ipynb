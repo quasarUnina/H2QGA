{
 "cells": [
  {
   "cell_type": "markdown",
   "metadata": {},
   "source": [
    "# Improving Quantum Genetic Optimization through Granular Computing\n",
    "### by Giovanni Acampora and Autilia Vitiello\n",
    "### Submitted to Granular Computing"
   ]
  },
  {
   "cell_type": "markdown",
   "metadata": {},
   "source": [
    "#### Abstract\n",
    "Quantum computers promise to revolutionize the world of computing thanks to some features of quantum mechanics that can enable massive parallelism in computation. \n",
    "This benefit may be particularly relevant in the design of evolutionary algorithms, where the quantum paradigm could support the exploration of multiple regions of the search space in a concurrent way. Although some efforts in this research field are ongoing, the potential of quantum computing is not yet fully expressed due to the limited number of qubits of current quantum processors. This limitation is even more acute when one wants to deal with continuous optimization problems, where the search space is potentially infinite. The goal of this paper is to address this limitation by introducing a hybrid and granular approach to quantum algorithm design, specifically designed for genetic optimization. This approach is defined as hybrid because it uses a digital computer to evaluate fitness functions, and a quantum processor to evolve the genetic population; moreover, it uses granular computing to hierarchically reduce the size of the search space of a problem, so that good near-optimal solutions can be identified even on small quantum computers. This notebook allows researchers in quantum computing and artificial intelligence to test our proposal on a set of well-know benchmark functions and to compare performance against the quantum state-of-the-art approach, named HQGA."
   ]
  },
  {
   "cell_type": "markdown",
   "metadata": {},
   "source": [
    "#### Importing Modules\n",
    "The first step to run HGQGA is to import the required Python modules."
   ]
  },
  {
   "cell_type": "code",
   "execution_count": null,
   "metadata": {},
   "outputs": [],
   "source": [
    "from qiskit import IBMQ\n",
    "from qiskit import Aer\n",
    "from math import pi\n",
    "import matplotlib.pyplot as plt\n",
    "\n",
    "import Problems as p\n",
    "import hqga_algorithm\n",
    "import hqga_iterative\n",
    "import hqga_utils_extensions\n",
    "import hqga_utils\n",
    "import utils\n",
    "from plotFunctions2D import display"
   ]
  },
  {
   "cell_type": "markdown",
   "metadata": {},
   "source": [
    "#### Setting the problem\n",
    "The second step is to define the problem to be solved by HGQGA. You can select among ten problems implemented as different Python functions and referred as to *ProblemF1*, *ProblemF2*, *ProblemF3*, *ProblemF4*, *ProblemF5*, *ProblemF6*, *ProblemF7*, *ProblemF8*, *ProblemF9* and *ProblemF10*. \n",
    "\n",
    "The variable *b* is used in the discretization procedure."
   ]
  },
  {
   "cell_type": "code",
   "execution_count": null,
   "metadata": {},
   "outputs": [],
   "source": [
    "b = 5\n",
    "\n",
    "# you can change the string ProblemF1 with another one among: \n",
    "# ProblemF2, ProblemF3, ProblemF4, ProblemF5, ProblemF6, ProblemF7, ProblemF8, ProblemF9, Problem F10\n",
    "\n",
    "problem=p.ProblemF1(num_bit_code=b)\n",
    "display(problem)"
   ]
  },
  {
   "cell_type": "markdown",
   "metadata": {},
   "source": [
    "#### Defining the quantum backend\n",
    "The third step is to define the quantum backed to be used to run HGQGA. Our experiments exploit the IBM quantum processor named *Guadalupe* whose access has been provided by IBM in the context of the *IBM Quantum Researchers Program Access Award* (AgreementNumber: W2177387). However, it is possible for all researchers that want test our approach to simulate HGQGA by using a quantum simulator."
   ]
  },
  {
   "cell_type": "code",
   "execution_count": null,
   "metadata": {},
   "outputs": [],
   "source": [
    "backend = Aer.get_backend('aer_simulator')\n",
    "device_features=utils.device(backend)"
   ]
  },
  {
   "cell_type": "markdown",
   "metadata": {},
   "source": [
    "#### Setting HGQGA hyperparameters\n",
    "The fourth step is to set the hyper-parameters of HGQGA. In this example, the number of chromosomes *m* is set to 3, the maximum number of iterations *max_gen* is set to 5, the maximum number of levels *k* is set to 4, the $\\delta$ value used during the initialization procedure is set to $\\frac{\\pi}{8}$, the $\\mu$ value representing\n",
    "the probability to apply the mutation is set to 0.3 and the $\\rho$ value used when the reinforcement elitism is applied is set to $\\frac{\\pi}{16}$. The selected elitism is the quantum elitism. You can change the elitism strategy by setting the variable *elitism_mod* to ELITISM_D for the deterministic elitism or to ELITISM_R for the quantum elitism with reinforcement."
   ]
  },
  {
   "cell_type": "code",
   "execution_count": null,
   "metadata": {},
   "outputs": [],
   "source": [
    "#hyper-parameters in the case of the quantum elitism\n",
    "m = 3\n",
    "max_gen = 5\n",
    "k = 4\n",
    "delta = pi/16\n",
    "mu = 0.3\n",
    "rho = pi/16\n",
    "elitism_mod = hqga_utils.ELITISM_Q\n",
    "\n",
    "\n",
    "if elitism_mod == hqga_utils.ELITISM_Q:\n",
    "    params = hqga_utils_extensions.ExtensionsParameters(k, m, max_gen, delta, mu, elitism=hqga_utils.ELITISM_Q)\n",
    "elif elitism_mod == hqga_utils.ELITISM_D:\n",
    "    params = hqga_utils_extensions.ExtensionsParameters(k, m, max_gen, delta, mu, elitism=hqga_utils.ELITISM_D)\n",
    "elif elitism_mod == hqga_utils.ELITISM_R:\n",
    "    params = hqga_utils_extensions.ExtensionsReinforcementParameters(k, m, max_gen, delta, rho, mu)\n",
    "else:\n",
    "    print(\"Please, select one elitism procedure among ELITISM_Q, ELITISM_D and ELITISM_R\")"
   ]
  },
  {
   "cell_type": "markdown",
   "metadata": {},
   "source": [
    "#### Setting visualization parameters\n",
    "This setting allows users to obtain the visualization of the circuits (*draw_circuit=True*), the visualization of the classical chromosomes and the relative fitness values (*verbose = True*) and, finally, the visualization of a progress bar to monitor the number of iterations (*progressBar = True*)."
   ]
  },
  {
   "cell_type": "code",
   "execution_count": null,
   "metadata": {},
   "outputs": [],
   "source": [
    "#presentation hyper-parameters\n",
    "params.progressBar = True\n",
    "params.verbose = True\n",
    "params.draw_circuit = True"
   ]
  },
  {
   "cell_type": "markdown",
   "metadata": {},
   "source": [
    "#### Setting up HGQGA quantum circuit\n",
    "The fifth step is to create an empty circuit with the required number of qubits."
   ]
  },
  {
   "cell_type": "code",
   "execution_count": null,
   "metadata": {},
   "outputs": [],
   "source": [
    "# build circuit\n",
    "circuit = hqga_utils.setupCircuit(params.pop_size, problem.dim * problem.num_bit_code)\n",
    "#print(circuit)"
   ]
  },
  {
   "cell_type": "markdown",
   "metadata": {},
   "source": [
    "#### Executing HGQGA\n",
    "The last step is to run H2QGA. At the end of the execution, this code displays the best solution, the optimal solution to the problem, the fitness function value, the optimal fitness function value in order to assess the quality of the generated solution. Moreover, in order to compare the performance of HGQGA with HQGA, also the solution and its fitness function value for HQGA are reported."
   ]
  },
  {
   "cell_type": "code",
   "execution_count": null,
   "metadata": {},
   "outputs": [],
   "source": [
    "# start test\n",
    "gBest, list_bests = hqga_iterative.runQGA(device_features, circuit, params, problem)\n",
    "opt_sol, opt_fitness = problem.getOptimalSol(k)\n",
    "print(\"Best solution - HGQGA\",gBest.chr)\n",
    "print(\"Optimal solution\",opt_sol)\n",
    "print(\"Best solution - HQGA\",str(problem.convert(list_bests[0].chr)))\n",
    "print(\"Fitness of the best solution - HGQGA\",gBest.fitness)\n",
    "print(\"Optimal fitness\", opt_fitness)\n",
    "print(\"Fitness of the best solution - HQGA\",list_bests[0].fitness)"
   ]
  },
  {
   "cell_type": "markdown",
   "metadata": {},
   "source": [
    "#### Systematic comparison\n",
    "To perform a systematic comparison between H2QGA and HQGA, we compare the fitness values on several runs. For this comparison, the number of runs is set to 25."
   ]
  },
  {
   "cell_type": "code",
   "execution_count": null,
   "metadata": {},
   "outputs": [],
   "source": [
    "params.draw_circuit = False\n",
    "params.verbose = False\n",
    "\n",
    "num_runs=5\n",
    "\n",
    "h2qga_fitnesses=[]\n",
    "hqga_fitnesses=[]\n",
    "\n",
    "# start comparison\n",
    "for i in range(num_runs):\n",
    "    hqga_utils.resetCircuit(circuit)\n",
    "    gBest, list_bests = hqga_iterative.runQGA(device_features, circuit, params, problem)\n",
    "    opt_sol, opt_fitness = problem.getOptimalSol(k)\n",
    "    \n",
    "    print(\"Best solution - HGQGA\",gBest.chr)\n",
    "    print(\"Optimal solution\",opt_sol)\n",
    "    print(\"Best solution - HQGA\",str(problem.convert(list_bests[0].chr)))\n",
    "    print(\"Fitness of the best solution - HGQGA\",gBest.fitness)\n",
    "    print(\"Optimal fitness\", opt_fitness)\n",
    "    print(\"Fitness of the best solution - HQGA\",list_bests[0].fitness)\n",
    "    h2qga_fitnesses.append(gBest.fitness)\n",
    "    hqga_fitnesses.append(list_bests[0].fitness)\n",
    "\n",
    "#display boxplots\n",
    "data =[h2qga_fitnesses]+[hqga_fitnesses]\n",
    "labels=[\"HGQGA\"] + [\"HQGA\"]\n",
    "meanlineprops = dict(linestyle='-', linewidth=1, color='blue')\n",
    "meanpointsprops = dict(marker='.', markersize=5, markeredgecolor='firebrick', markerfacecolor='firebrick')\n",
    "plt.boxplot(data, sym=\"b+\", labels=labels, vert=True, showfliers=True, showmeans=True, patch_artist=True, boxprops=dict(facecolor=\"lightgray\", linewidth=\"1\"),medianprops=dict(color=\"firebrick\", linewidth=\"1\"), meanprops=meanpointsprops)\n",
    "plt.tick_params(axis='y', labelsize=\"8\")\n",
    "plt.tick_params(axis='x', rotation=0,labelsize=\"8\")\n",
    "plt.show()"
   ]
  },
  {
   "cell_type": "markdown",
   "metadata": {},
   "source": [
    "<h1><center>QUASAR Laboratory. University of Naples Federico II.</center></h1>"
   ]
  }
 ],
 "metadata": {
  "kernelspec": {
   "display_name": "Python 3",
   "language": "python",
   "name": "python3"
  },
  "language_info": {
   "codemirror_mode": {
    "name": "ipython",
    "version": 3
   },
   "file_extension": ".py",
   "mimetype": "text/x-python",
   "name": "python",
   "nbconvert_exporter": "python",
   "pygments_lexer": "ipython3",
   "version": "3.7.6"
  }
 },
 "nbformat": 4,
 "nbformat_minor": 4
}
